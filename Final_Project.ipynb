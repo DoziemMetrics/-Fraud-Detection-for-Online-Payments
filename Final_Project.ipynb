{
 "cells": [
  {
   "cell_type": "markdown",
   "id": "edc6069e",
   "metadata": {},
   "source": [
    "# Fraud Detection\n",
    "The problem at hand is to build a machine learning model that can predict online payment fraud for Blossom Bank. This is a binary classification problem where the target variable is 'isFraud', indicating whether a transaction is fraudulent or not. The objective is to build a model that can accurately identify fraudulent transactions and minimize false negatives while also reducing false positives.\n",
    "\n",
    "The benefits of a successful solution would be immense for Blossom Bank, as it would help them to prevent financial losses due to fraudulent transactions, thereby increasing their profitability and customer trust."
   ]
  },
  {
   "cell_type": "code",
   "execution_count": 1,
   "id": "ddf3061f",
   "metadata": {},
   "outputs": [],
   "source": [
    "# Load the neccessary Libraries\n",
    "import pandas as pd\n",
    "import numpy as np\n",
    "import seaborn as sns\n",
    "import matplotlib.pyplot as plt\n"
   ]
  },
  {
   "cell_type": "code",
   "execution_count": 2,
   "id": "ec1b112e",
   "metadata": {},
   "outputs": [
    {
     "data": {
      "text/html": [
       "<div>\n",
       "<style scoped>\n",
       "    .dataframe tbody tr th:only-of-type {\n",
       "        vertical-align: middle;\n",
       "    }\n",
       "\n",
       "    .dataframe tbody tr th {\n",
       "        vertical-align: top;\n",
       "    }\n",
       "\n",
       "    .dataframe thead th {\n",
       "        text-align: right;\n",
       "    }\n",
       "</style>\n",
       "<table border=\"1\" class=\"dataframe\">\n",
       "  <thead>\n",
       "    <tr style=\"text-align: right;\">\n",
       "      <th></th>\n",
       "      <th>step</th>\n",
       "      <th>type</th>\n",
       "      <th>amount</th>\n",
       "      <th>nameOrig</th>\n",
       "      <th>oldbalanceOrg</th>\n",
       "      <th>newbalanceOrig</th>\n",
       "      <th>nameDest</th>\n",
       "      <th>oldbalanceDest</th>\n",
       "      <th>newbalanceDest</th>\n",
       "      <th>isFraud</th>\n",
       "    </tr>\n",
       "  </thead>\n",
       "  <tbody>\n",
       "    <tr>\n",
       "      <th>0</th>\n",
       "      <td>1</td>\n",
       "      <td>PAYMENT</td>\n",
       "      <td>9839.64</td>\n",
       "      <td>C1231006815</td>\n",
       "      <td>170136.0</td>\n",
       "      <td>160296.36</td>\n",
       "      <td>M1979787155</td>\n",
       "      <td>0.0</td>\n",
       "      <td>0.0</td>\n",
       "      <td>0</td>\n",
       "    </tr>\n",
       "    <tr>\n",
       "      <th>1</th>\n",
       "      <td>1</td>\n",
       "      <td>PAYMENT</td>\n",
       "      <td>1864.28</td>\n",
       "      <td>C1666544295</td>\n",
       "      <td>21249.0</td>\n",
       "      <td>19384.72</td>\n",
       "      <td>M2044282225</td>\n",
       "      <td>0.0</td>\n",
       "      <td>0.0</td>\n",
       "      <td>0</td>\n",
       "    </tr>\n",
       "    <tr>\n",
       "      <th>2</th>\n",
       "      <td>1</td>\n",
       "      <td>TRANSFER</td>\n",
       "      <td>181.00</td>\n",
       "      <td>C1305486145</td>\n",
       "      <td>181.0</td>\n",
       "      <td>0.00</td>\n",
       "      <td>C553264065</td>\n",
       "      <td>0.0</td>\n",
       "      <td>0.0</td>\n",
       "      <td>1</td>\n",
       "    </tr>\n",
       "    <tr>\n",
       "      <th>3</th>\n",
       "      <td>1</td>\n",
       "      <td>CASH_OUT</td>\n",
       "      <td>181.00</td>\n",
       "      <td>C840083671</td>\n",
       "      <td>181.0</td>\n",
       "      <td>0.00</td>\n",
       "      <td>C38997010</td>\n",
       "      <td>21182.0</td>\n",
       "      <td>0.0</td>\n",
       "      <td>1</td>\n",
       "    </tr>\n",
       "    <tr>\n",
       "      <th>4</th>\n",
       "      <td>1</td>\n",
       "      <td>PAYMENT</td>\n",
       "      <td>11668.14</td>\n",
       "      <td>C2048537720</td>\n",
       "      <td>41554.0</td>\n",
       "      <td>29885.86</td>\n",
       "      <td>M1230701703</td>\n",
       "      <td>0.0</td>\n",
       "      <td>0.0</td>\n",
       "      <td>0</td>\n",
       "    </tr>\n",
       "  </tbody>\n",
       "</table>\n",
       "</div>"
      ],
      "text/plain": [
       "   step      type    amount     nameOrig  oldbalanceOrg  newbalanceOrig  \\\n",
       "0     1   PAYMENT   9839.64  C1231006815       170136.0       160296.36   \n",
       "1     1   PAYMENT   1864.28  C1666544295        21249.0        19384.72   \n",
       "2     1  TRANSFER    181.00  C1305486145          181.0            0.00   \n",
       "3     1  CASH_OUT    181.00   C840083671          181.0            0.00   \n",
       "4     1   PAYMENT  11668.14  C2048537720        41554.0        29885.86   \n",
       "\n",
       "      nameDest  oldbalanceDest  newbalanceDest  isFraud  \n",
       "0  M1979787155             0.0             0.0        0  \n",
       "1  M2044282225             0.0             0.0        0  \n",
       "2   C553264065             0.0             0.0        1  \n",
       "3    C38997010         21182.0             0.0        1  \n",
       "4  M1230701703             0.0             0.0        0  "
      ]
     },
     "execution_count": 2,
     "metadata": {},
     "output_type": "execute_result"
    }
   ],
   "source": [
    "# Load the data\n",
    "df = pd.read_csv(r'C:\\\\Users\\\\Mhizfair\\\\Desktop\\\\Quantum analytics\\\\Python\\\\Final Project\\\\Online Payment Fraud Detection.csv')\n",
    "df.head()"
   ]
  },
  {
   "cell_type": "markdown",
   "id": "2bd61dfe",
   "metadata": {},
   "source": [
    "### Lets Get to know more about our data"
   ]
  },
  {
   "cell_type": "code",
   "execution_count": 3,
   "id": "fdc26a52",
   "metadata": {},
   "outputs": [
    {
     "data": {
      "text/plain": [
       "<bound method DataFrame.info of          step      type     amount     nameOrig  oldbalanceOrg  \\\n",
       "0           1   PAYMENT    9839.64  C1231006815      170136.00   \n",
       "1           1   PAYMENT    1864.28  C1666544295       21249.00   \n",
       "2           1  TRANSFER     181.00  C1305486145         181.00   \n",
       "3           1  CASH_OUT     181.00   C840083671         181.00   \n",
       "4           1   PAYMENT   11668.14  C2048537720       41554.00   \n",
       "...       ...       ...        ...          ...            ...   \n",
       "1048570    95  CASH_OUT  132557.35  C1179511630      479803.00   \n",
       "1048571    95   PAYMENT    9917.36  C1956161225       90545.00   \n",
       "1048572    95   PAYMENT   14140.05  C2037964975       20545.00   \n",
       "1048573    95   PAYMENT   10020.05  C1633237354       90605.00   \n",
       "1048574    95   PAYMENT   11450.03  C1264356443       80584.95   \n",
       "\n",
       "         newbalanceOrig     nameDest  oldbalanceDest  newbalanceDest  isFraud  \n",
       "0             160296.36  M1979787155            0.00            0.00        0  \n",
       "1              19384.72  M2044282225            0.00            0.00        0  \n",
       "2                  0.00   C553264065            0.00            0.00        1  \n",
       "3                  0.00    C38997010        21182.00            0.00        1  \n",
       "4              29885.86  M1230701703            0.00            0.00        0  \n",
       "...                 ...          ...             ...             ...      ...  \n",
       "1048570       347245.65   C435674507       484329.37       616886.72        0  \n",
       "1048571        80627.64   M668364942            0.00            0.00        0  \n",
       "1048572         6404.95  M1355182933            0.00            0.00        0  \n",
       "1048573        80584.95  M1964992463            0.00            0.00        0  \n",
       "1048574        69134.92   M677577406            0.00            0.00        0  \n",
       "\n",
       "[1048575 rows x 10 columns]>"
      ]
     },
     "execution_count": 3,
     "metadata": {},
     "output_type": "execute_result"
    }
   ],
   "source": [
    "df.info"
   ]
  },
  {
   "cell_type": "code",
   "execution_count": 4,
   "id": "bf596e2b",
   "metadata": {},
   "outputs": [
    {
     "data": {
      "text/html": [
       "<div>\n",
       "<style scoped>\n",
       "    .dataframe tbody tr th:only-of-type {\n",
       "        vertical-align: middle;\n",
       "    }\n",
       "\n",
       "    .dataframe tbody tr th {\n",
       "        vertical-align: top;\n",
       "    }\n",
       "\n",
       "    .dataframe thead th {\n",
       "        text-align: right;\n",
       "    }\n",
       "</style>\n",
       "<table border=\"1\" class=\"dataframe\">\n",
       "  <thead>\n",
       "    <tr style=\"text-align: right;\">\n",
       "      <th></th>\n",
       "      <th>step</th>\n",
       "      <th>amount</th>\n",
       "      <th>oldbalanceOrg</th>\n",
       "      <th>newbalanceOrig</th>\n",
       "      <th>oldbalanceDest</th>\n",
       "      <th>newbalanceDest</th>\n",
       "      <th>isFraud</th>\n",
       "    </tr>\n",
       "  </thead>\n",
       "  <tbody>\n",
       "    <tr>\n",
       "      <th>count</th>\n",
       "      <td>1.048575e+06</td>\n",
       "      <td>1.048575e+06</td>\n",
       "      <td>1.048575e+06</td>\n",
       "      <td>1.048575e+06</td>\n",
       "      <td>1.048575e+06</td>\n",
       "      <td>1.048575e+06</td>\n",
       "      <td>1.048575e+06</td>\n",
       "    </tr>\n",
       "    <tr>\n",
       "      <th>mean</th>\n",
       "      <td>2.696617e+01</td>\n",
       "      <td>1.586670e+05</td>\n",
       "      <td>8.740095e+05</td>\n",
       "      <td>8.938089e+05</td>\n",
       "      <td>9.781600e+05</td>\n",
       "      <td>1.114198e+06</td>\n",
       "      <td>1.089097e-03</td>\n",
       "    </tr>\n",
       "    <tr>\n",
       "      <th>std</th>\n",
       "      <td>1.562325e+01</td>\n",
       "      <td>2.649409e+05</td>\n",
       "      <td>2.971751e+06</td>\n",
       "      <td>3.008271e+06</td>\n",
       "      <td>2.296780e+06</td>\n",
       "      <td>2.416593e+06</td>\n",
       "      <td>3.298351e-02</td>\n",
       "    </tr>\n",
       "    <tr>\n",
       "      <th>min</th>\n",
       "      <td>1.000000e+00</td>\n",
       "      <td>1.000000e-01</td>\n",
       "      <td>0.000000e+00</td>\n",
       "      <td>0.000000e+00</td>\n",
       "      <td>0.000000e+00</td>\n",
       "      <td>0.000000e+00</td>\n",
       "      <td>0.000000e+00</td>\n",
       "    </tr>\n",
       "    <tr>\n",
       "      <th>25%</th>\n",
       "      <td>1.500000e+01</td>\n",
       "      <td>1.214907e+04</td>\n",
       "      <td>0.000000e+00</td>\n",
       "      <td>0.000000e+00</td>\n",
       "      <td>0.000000e+00</td>\n",
       "      <td>0.000000e+00</td>\n",
       "      <td>0.000000e+00</td>\n",
       "    </tr>\n",
       "    <tr>\n",
       "      <th>50%</th>\n",
       "      <td>2.000000e+01</td>\n",
       "      <td>7.634333e+04</td>\n",
       "      <td>1.600200e+04</td>\n",
       "      <td>0.000000e+00</td>\n",
       "      <td>1.263772e+05</td>\n",
       "      <td>2.182604e+05</td>\n",
       "      <td>0.000000e+00</td>\n",
       "    </tr>\n",
       "    <tr>\n",
       "      <th>75%</th>\n",
       "      <td>3.900000e+01</td>\n",
       "      <td>2.137619e+05</td>\n",
       "      <td>1.366420e+05</td>\n",
       "      <td>1.746000e+05</td>\n",
       "      <td>9.159235e+05</td>\n",
       "      <td>1.149808e+06</td>\n",
       "      <td>0.000000e+00</td>\n",
       "    </tr>\n",
       "    <tr>\n",
       "      <th>max</th>\n",
       "      <td>9.500000e+01</td>\n",
       "      <td>1.000000e+07</td>\n",
       "      <td>3.890000e+07</td>\n",
       "      <td>3.890000e+07</td>\n",
       "      <td>4.210000e+07</td>\n",
       "      <td>4.220000e+07</td>\n",
       "      <td>1.000000e+00</td>\n",
       "    </tr>\n",
       "  </tbody>\n",
       "</table>\n",
       "</div>"
      ],
      "text/plain": [
       "               step        amount  oldbalanceOrg  newbalanceOrig  \\\n",
       "count  1.048575e+06  1.048575e+06   1.048575e+06    1.048575e+06   \n",
       "mean   2.696617e+01  1.586670e+05   8.740095e+05    8.938089e+05   \n",
       "std    1.562325e+01  2.649409e+05   2.971751e+06    3.008271e+06   \n",
       "min    1.000000e+00  1.000000e-01   0.000000e+00    0.000000e+00   \n",
       "25%    1.500000e+01  1.214907e+04   0.000000e+00    0.000000e+00   \n",
       "50%    2.000000e+01  7.634333e+04   1.600200e+04    0.000000e+00   \n",
       "75%    3.900000e+01  2.137619e+05   1.366420e+05    1.746000e+05   \n",
       "max    9.500000e+01  1.000000e+07   3.890000e+07    3.890000e+07   \n",
       "\n",
       "       oldbalanceDest  newbalanceDest       isFraud  \n",
       "count    1.048575e+06    1.048575e+06  1.048575e+06  \n",
       "mean     9.781600e+05    1.114198e+06  1.089097e-03  \n",
       "std      2.296780e+06    2.416593e+06  3.298351e-02  \n",
       "min      0.000000e+00    0.000000e+00  0.000000e+00  \n",
       "25%      0.000000e+00    0.000000e+00  0.000000e+00  \n",
       "50%      1.263772e+05    2.182604e+05  0.000000e+00  \n",
       "75%      9.159235e+05    1.149808e+06  0.000000e+00  \n",
       "max      4.210000e+07    4.220000e+07  1.000000e+00  "
      ]
     },
     "execution_count": 4,
     "metadata": {},
     "output_type": "execute_result"
    }
   ],
   "source": [
    "df.describe()"
   ]
  },
  {
   "cell_type": "code",
   "execution_count": 5,
   "id": "4cfa71d1",
   "metadata": {},
   "outputs": [
    {
     "data": {
      "text/plain": [
       "Index(['step', 'type', 'amount', 'nameOrig', 'oldbalanceOrg', 'newbalanceOrig',\n",
       "       'nameDest', 'oldbalanceDest', 'newbalanceDest', 'isFraud'],\n",
       "      dtype='object')"
      ]
     },
     "execution_count": 5,
     "metadata": {},
     "output_type": "execute_result"
    }
   ],
   "source": [
    "df.columns"
   ]
  },
  {
   "cell_type": "code",
   "execution_count": 6,
   "id": "5da5e5cf",
   "metadata": {},
   "outputs": [
    {
     "data": {
      "text/plain": [
       "(1048575, 10)"
      ]
     },
     "execution_count": 6,
     "metadata": {},
     "output_type": "execute_result"
    }
   ],
   "source": [
    "df.shape"
   ]
  },
  {
   "cell_type": "code",
   "execution_count": 7,
   "id": "1bdfb2bf",
   "metadata": {},
   "outputs": [
    {
     "data": {
      "text/plain": [
       "step              0\n",
       "type              0\n",
       "amount            0\n",
       "nameOrig          0\n",
       "oldbalanceOrg     0\n",
       "newbalanceOrig    0\n",
       "nameDest          0\n",
       "oldbalanceDest    0\n",
       "newbalanceDest    0\n",
       "isFraud           0\n",
       "dtype: int64"
      ]
     },
     "execution_count": 7,
     "metadata": {},
     "output_type": "execute_result"
    }
   ],
   "source": [
    "df.isnull().sum()"
   ]
  },
  {
   "cell_type": "code",
   "execution_count": 8,
   "id": "ac2aecda",
   "metadata": {},
   "outputs": [
    {
     "data": {
      "text/plain": [
       "step                int64\n",
       "type               object\n",
       "amount            float64\n",
       "nameOrig           object\n",
       "oldbalanceOrg     float64\n",
       "newbalanceOrig    float64\n",
       "nameDest           object\n",
       "oldbalanceDest    float64\n",
       "newbalanceDest    float64\n",
       "isFraud             int64\n",
       "dtype: object"
      ]
     },
     "execution_count": 8,
     "metadata": {},
     "output_type": "execute_result"
    }
   ],
   "source": [
    "df.dtypes"
   ]
  },
  {
   "cell_type": "code",
   "execution_count": 9,
   "id": "fe66c67d",
   "metadata": {},
   "outputs": [
    {
     "data": {
      "text/plain": [
       "0"
      ]
     },
     "execution_count": 9,
     "metadata": {},
     "output_type": "execute_result"
    }
   ],
   "source": [
    "df.duplicated().sum()"
   ]
  },
  {
   "cell_type": "markdown",
   "id": "dbfaef73",
   "metadata": {},
   "source": [
    "### Observation: \n",
    "After getting to know our data here are some deductions\n",
    "- The data is made up of 1,048,575 rows and 10 columns\n",
    "- The data has no null value\n",
    "- The data has no duplicate value\n",
    "- The data has 3 different data types which are 1. int64 which is 2 columns, 2. Object which is 3 columns, 3. float which makes up 4 columns.\n",
    "\n",
    "From the above deductions the dataset seems to be in good shape so it is safe to proceed so we can further understand our data by doing some Exploratory data analysis"
   ]
  },
  {
   "cell_type": "markdown",
   "id": "f0a88293",
   "metadata": {},
   "source": [
    "## Exploratory Data Analysis\n",
    "We are going to perform some explratory data analysis on our data to better understand what we are working with, the EDA will be divided into Univariate, Bivariate and Multivariate Analysis."
   ]
  },
  {
   "cell_type": "markdown",
   "id": "0121fe26",
   "metadata": {},
   "source": [
    "### Multivariate Analysis"
   ]
  },
  {
   "cell_type": "code",
   "execution_count": 10,
   "id": "c69fa34a",
   "metadata": {},
   "outputs": [
    {
     "data": {
      "image/png": "[encoded data removed]",
      "text/plain": [
       "<Figure size 640x480 with 1 Axes>"
      ]
     },
     "metadata": {},
     "output_type": "display_data"
    }
   ],
   "source": [
    "## Lets see the distribution of transaction amount by counts\n",
    "plt.hist(df['amount'], bins=20)\n",
    "plt.xlabel('Amount')\n",
    "plt.ylabel('Count')\n",
    "plt.title('Distribution of Transaction Amounts')\n",
    "plt.show()\n"
   ]
  },
  {
   "cell_type": "code",
   "execution_count": 11,
   "id": "5636b71e",
   "metadata": {},
   "outputs": [
    {
     "name": "stdout",
     "output_type": "stream",
     "text": [
      "0    1047433\n",
      "1       1142\n",
      "Name: isFraud, dtype: int64\n"
     ]
    }
   ],
   "source": [
    "## A closer look at the amount of recorded frauds will helps us know what we are working with\n",
    "isFraud_counts = df['isFraud'].value_counts()\n",
    "print(isFraud_counts)"
   ]
  },
  {
   "cell_type": "code",
   "execution_count": 12,
   "id": "a3eb2a67",
   "metadata": {},
   "outputs": [
    {
     "data": {
      "text/plain": [
       "<AxesSubplot:xlabel='isFraud', ylabel='count'>"
      ]
     },
     "execution_count": 12,
     "metadata": {},
     "output_type": "execute_result"
    },
    {
     "data": {
      "image/png": "[encoded data removed]",
      "text/plain": [
       "<Figure size 640x480 with 1 Axes>"
      ]
     },
     "metadata": {},
     "output_type": "display_data"
    }
   ],
   "source": [
    "sns.countplot(x='isFraud', data=df)\n"
   ]
  },
  {
   "cell_type": "code",
   "execution_count": 13,
   "id": "a4fa4de7",
   "metadata": {},
   "outputs": [
    {
     "name": "stdout",
     "output_type": "stream",
     "text": [
      "CASH_OUT    373641\n",
      "PAYMENT     353873\n",
      "CASH_IN     227130\n",
      "TRANSFER     86753\n",
      "DEBIT         7178\n",
      "Name: type, dtype: int64\n"
     ]
    }
   ],
   "source": [
    "## A closer look at the transaction Type\n",
    "Trans_type = df['type'].value_counts()\n",
    "print(Trans_type)"
   ]
  },
  {
   "cell_type": "code",
   "execution_count": 14,
   "id": "1a345553",
   "metadata": {},
   "outputs": [
    {
     "data": {
      "text/plain": [
       "<AxesSubplot:xlabel='type', ylabel='count'>"
      ]
     },
     "execution_count": 14,
     "metadata": {},
     "output_type": "execute_result"
    },
    {
     "data": {
      "image/png": "[encoded data removed]",
      "text/plain": [
       "<Figure size 640x480 with 1 Axes>"
      ]
     },
     "metadata": {},
     "output_type": "display_data"
    }
   ],
   "source": [
    "sns.countplot(x='type', data=df, order=df['type'].value_counts().index)\n"
   ]
  },
  {
   "cell_type": "markdown",
   "id": "05374093",
   "metadata": {},
   "source": [
    "### Observations:\n",
    "From the univariate analysis conducted it is safe to say that\n",
    "- Transactions with fewer amounts make 90% of the total transactions carried ou\n",
    "- Of the over 1 million recorded transactions only about 1000 is recored as fraudulent which is about 0.1%\n",
    "- Cash Out is the most favoured means of transactions by customers\n",
    "\n",
    "Haven been able to deduce these lets see how the variables fair against each other in the Bivariate analysis"
   ]
  },
  {
   "cell_type": "markdown",
   "id": "04dcd623",
   "metadata": {},
   "source": [
    "### Bi-Variate & Multivariate Analysis"
   ]
  },
  {
   "cell_type": "code",
   "execution_count": 15,
   "id": "3d2e30b3",
   "metadata": {},
   "outputs": [
    {
     "data": {
      "image/png": "[encoded data removed]",
      "text/plain": [
       "<Figure size 640x480 with 2 Axes>"
      ]
     },
     "metadata": {},
     "output_type": "display_data"
    }
   ],
   "source": [
    "## Lets see how the variables correlate\n",
    "corr = df.corr()\n",
    "sns.heatmap(corr, cmap='coolwarm', annot=True)\n",
    "plt.title('Heatmap of Correlation Matrix')\n",
    "plt.show()\n"
   ]
  },
  {
   "cell_type": "code",
   "execution_count": 16,
   "id": "10822b9c",
   "metadata": {},
   "outputs": [
    {
     "data": {
      "image/png": "[encoded data removed]",
      "text/plain": [
       "<Figure size 640x480 with 1 Axes>"
      ]
     },
     "metadata": {},
     "output_type": "display_data"
    }
   ],
   "source": [
    "sns.boxplot(x='isFraud', y='amount', data=df)\n",
    "plt.xlabel('isFraud')\n",
    "plt.ylabel('Amount')\n",
    "plt.title('Boxplot of Amount for Fraudulent Transactions')\n",
    "plt.show()\n"
   ]
  },
  {
   "cell_type": "code",
   "execution_count": 17,
   "id": "e7c45404",
   "metadata": {},
   "outputs": [
    {
     "data": {
      "text/plain": [
       "<AxesSubplot:xlabel='isFraud', ylabel='amount'>"
      ]
     },
     "execution_count": 17,
     "metadata": {},
     "output_type": "execute_result"
    },
    {
     "data": {
      "image/png": "[encoded data removed]",
      "text/plain": [
       "<Figure size 640x480 with 1 Axes>"
      ]
     },
     "metadata": {},
     "output_type": "display_data"
    }
   ],
   "source": [
    "sns.boxplot(x='isFraud', y='amount', hue='type', data=df)"
   ]
  },
  {
   "cell_type": "markdown",
   "id": "52e1cb67",
   "metadata": {},
   "source": [
    "### Observation:\n",
    "After conducting a multivarate analysis on the dataset we discovered that Cash Out and Transfer were the best type of transaction that was favored by scammers that perpetrate Fraud"
   ]
  },
  {
   "cell_type": "markdown",
   "id": "bb11bc33",
   "metadata": {},
   "source": [
    "## Feature Engineering"
   ]
  },
  {
   "cell_type": "code",
   "execution_count": 18,
   "id": "ce53a5c6",
   "metadata": {},
   "outputs": [
    {
     "data": {
      "text/html": [
       "<div>\n",
       "<style scoped>\n",
       "    .dataframe tbody tr th:only-of-type {\n",
       "        vertical-align: middle;\n",
       "    }\n",
       "\n",
       "    .dataframe tbody tr th {\n",
       "        vertical-align: top;\n",
       "    }\n",
       "\n",
       "    .dataframe thead th {\n",
       "        text-align: right;\n",
       "    }\n",
       "</style>\n",
       "<table border=\"1\" class=\"dataframe\">\n",
       "  <thead>\n",
       "    <tr style=\"text-align: right;\">\n",
       "      <th></th>\n",
       "      <th>step</th>\n",
       "      <th>amount</th>\n",
       "      <th>nameOrig</th>\n",
       "      <th>oldbalanceOrg</th>\n",
       "      <th>newbalanceOrig</th>\n",
       "      <th>nameDest</th>\n",
       "      <th>oldbalanceDest</th>\n",
       "      <th>newbalanceDest</th>\n",
       "      <th>isFraud</th>\n",
       "      <th>type_CASH_IN</th>\n",
       "      <th>type_CASH_OUT</th>\n",
       "      <th>type_DEBIT</th>\n",
       "      <th>type_PAYMENT</th>\n",
       "      <th>type_TRANSFER</th>\n",
       "    </tr>\n",
       "  </thead>\n",
       "  <tbody>\n",
       "    <tr>\n",
       "      <th>0</th>\n",
       "      <td>1</td>\n",
       "      <td>9839.64</td>\n",
       "      <td>C1231006815</td>\n",
       "      <td>170136.00</td>\n",
       "      <td>160296.36</td>\n",
       "      <td>M1979787155</td>\n",
       "      <td>0.00</td>\n",
       "      <td>0.00</td>\n",
       "      <td>0</td>\n",
       "      <td>0</td>\n",
       "      <td>0</td>\n",
       "      <td>0</td>\n",
       "      <td>1</td>\n",
       "      <td>0</td>\n",
       "    </tr>\n",
       "    <tr>\n",
       "      <th>1</th>\n",
       "      <td>1</td>\n",
       "      <td>1864.28</td>\n",
       "      <td>C1666544295</td>\n",
       "      <td>21249.00</td>\n",
       "      <td>19384.72</td>\n",
       "      <td>M2044282225</td>\n",
       "      <td>0.00</td>\n",
       "      <td>0.00</td>\n",
       "      <td>0</td>\n",
       "      <td>0</td>\n",
       "      <td>0</td>\n",
       "      <td>0</td>\n",
       "      <td>1</td>\n",
       "      <td>0</td>\n",
       "    </tr>\n",
       "    <tr>\n",
       "      <th>2</th>\n",
       "      <td>1</td>\n",
       "      <td>181.00</td>\n",
       "      <td>C1305486145</td>\n",
       "      <td>181.00</td>\n",
       "      <td>0.00</td>\n",
       "      <td>C553264065</td>\n",
       "      <td>0.00</td>\n",
       "      <td>0.00</td>\n",
       "      <td>1</td>\n",
       "      <td>0</td>\n",
       "      <td>0</td>\n",
       "      <td>0</td>\n",
       "      <td>0</td>\n",
       "      <td>1</td>\n",
       "    </tr>\n",
       "    <tr>\n",
       "      <th>3</th>\n",
       "      <td>1</td>\n",
       "      <td>181.00</td>\n",
       "      <td>C840083671</td>\n",
       "      <td>181.00</td>\n",
       "      <td>0.00</td>\n",
       "      <td>C38997010</td>\n",
       "      <td>21182.00</td>\n",
       "      <td>0.00</td>\n",
       "      <td>1</td>\n",
       "      <td>0</td>\n",
       "      <td>1</td>\n",
       "      <td>0</td>\n",
       "      <td>0</td>\n",
       "      <td>0</td>\n",
       "    </tr>\n",
       "    <tr>\n",
       "      <th>4</th>\n",
       "      <td>1</td>\n",
       "      <td>11668.14</td>\n",
       "      <td>C2048537720</td>\n",
       "      <td>41554.00</td>\n",
       "      <td>29885.86</td>\n",
       "      <td>M1230701703</td>\n",
       "      <td>0.00</td>\n",
       "      <td>0.00</td>\n",
       "      <td>0</td>\n",
       "      <td>0</td>\n",
       "      <td>0</td>\n",
       "      <td>0</td>\n",
       "      <td>1</td>\n",
       "      <td>0</td>\n",
       "    </tr>\n",
       "    <tr>\n",
       "      <th>...</th>\n",
       "      <td>...</td>\n",
       "      <td>...</td>\n",
       "      <td>...</td>\n",
       "      <td>...</td>\n",
       "      <td>...</td>\n",
       "      <td>...</td>\n",
       "      <td>...</td>\n",
       "      <td>...</td>\n",
       "      <td>...</td>\n",
       "      <td>...</td>\n",
       "      <td>...</td>\n",
       "      <td>...</td>\n",
       "      <td>...</td>\n",
       "      <td>...</td>\n",
       "    </tr>\n",
       "    <tr>\n",
       "      <th>1048570</th>\n",
       "      <td>95</td>\n",
       "      <td>132557.35</td>\n",
       "      <td>C1179511630</td>\n",
       "      <td>479803.00</td>\n",
       "      <td>347245.65</td>\n",
       "      <td>C435674507</td>\n",
       "      <td>484329.37</td>\n",
       "      <td>616886.72</td>\n",
       "      <td>0</td>\n",
       "      <td>0</td>\n",
       "      <td>1</td>\n",
       "      <td>0</td>\n",
       "      <td>0</td>\n",
       "      <td>0</td>\n",
       "    </tr>\n",
       "    <tr>\n",
       "      <th>1048571</th>\n",
       "      <td>95</td>\n",
       "      <td>9917.36</td>\n",
       "      <td>C1956161225</td>\n",
       "      <td>90545.00</td>\n",
       "      <td>80627.64</td>\n",
       "      <td>M668364942</td>\n",
       "      <td>0.00</td>\n",
       "      <td>0.00</td>\n",
       "      <td>0</td>\n",
       "      <td>0</td>\n",
       "      <td>0</td>\n",
       "      <td>0</td>\n",
       "      <td>1</td>\n",
       "      <td>0</td>\n",
       "    </tr>\n",
       "    <tr>\n",
       "      <th>1048572</th>\n",
       "      <td>95</td>\n",
       "      <td>14140.05</td>\n",
       "      <td>C2037964975</td>\n",
       "      <td>20545.00</td>\n",
       "      <td>6404.95</td>\n",
       "      <td>M1355182933</td>\n",
       "      <td>0.00</td>\n",
       "      <td>0.00</td>\n",
       "      <td>0</td>\n",
       "      <td>0</td>\n",
       "      <td>0</td>\n",
       "      <td>0</td>\n",
       "      <td>1</td>\n",
       "      <td>0</td>\n",
       "    </tr>\n",
       "    <tr>\n",
       "      <th>1048573</th>\n",
       "      <td>95</td>\n",
       "      <td>10020.05</td>\n",
       "      <td>C1633237354</td>\n",
       "      <td>90605.00</td>\n",
       "      <td>80584.95</td>\n",
       "      <td>M1964992463</td>\n",
       "      <td>0.00</td>\n",
       "      <td>0.00</td>\n",
       "      <td>0</td>\n",
       "      <td>0</td>\n",
       "      <td>0</td>\n",
       "      <td>0</td>\n",
       "      <td>1</td>\n",
       "      <td>0</td>\n",
       "    </tr>\n",
       "    <tr>\n",
       "      <th>1048574</th>\n",
       "      <td>95</td>\n",
       "      <td>11450.03</td>\n",
       "      <td>C1264356443</td>\n",
       "      <td>80584.95</td>\n",
       "      <td>69134.92</td>\n",
       "      <td>M677577406</td>\n",
       "      <td>0.00</td>\n",
       "      <td>0.00</td>\n",
       "      <td>0</td>\n",
       "      <td>0</td>\n",
       "      <td>0</td>\n",
       "      <td>0</td>\n",
       "      <td>1</td>\n",
       "      <td>0</td>\n",
       "    </tr>\n",
       "  </tbody>\n",
       "</table>\n",
       "<p>1048575 rows × 14 columns</p>\n",
       "</div>"
      ],
      "text/plain": [
       "         step     amount     nameOrig  oldbalanceOrg  newbalanceOrig  \\\n",
       "0           1    9839.64  C1231006815      170136.00       160296.36   \n",
       "1           1    1864.28  C1666544295       21249.00        19384.72   \n",
       "2           1     181.00  C1305486145         181.00            0.00   \n",
       "3           1     181.00   C840083671         181.00            0.00   \n",
       "4           1   11668.14  C2048537720       41554.00        29885.86   \n",
       "...       ...        ...          ...            ...             ...   \n",
       "1048570    95  132557.35  C1179511630      479803.00       347245.65   \n",
       "1048571    95    9917.36  C1956161225       90545.00        80627.64   \n",
       "1048572    95   14140.05  C2037964975       20545.00         6404.95   \n",
       "1048573    95   10020.05  C1633237354       90605.00        80584.95   \n",
       "1048574    95   11450.03  C1264356443       80584.95        69134.92   \n",
       "\n",
       "            nameDest  oldbalanceDest  newbalanceDest  isFraud  type_CASH_IN  \\\n",
       "0        M1979787155            0.00            0.00        0             0   \n",
       "1        M2044282225            0.00            0.00        0             0   \n",
       "2         C553264065            0.00            0.00        1             0   \n",
       "3          C38997010        21182.00            0.00        1             0   \n",
       "4        M1230701703            0.00            0.00        0             0   \n",
       "...              ...             ...             ...      ...           ...   \n",
       "1048570   C435674507       484329.37       616886.72        0             0   \n",
       "1048571   M668364942            0.00            0.00        0             0   \n",
       "1048572  M1355182933            0.00            0.00        0             0   \n",
       "1048573  M1964992463            0.00            0.00        0             0   \n",
       "1048574   M677577406            0.00            0.00        0             0   \n",
       "\n",
       "         type_CASH_OUT  type_DEBIT  type_PAYMENT  type_TRANSFER  \n",
       "0                    0           0             1              0  \n",
       "1                    0           0             1              0  \n",
       "2                    0           0             0              1  \n",
       "3                    1           0             0              0  \n",
       "4                    0           0             1              0  \n",
       "...                ...         ...           ...            ...  \n",
       "1048570              1           0             0              0  \n",
       "1048571              0           0             1              0  \n",
       "1048572              0           0             1              0  \n",
       "1048573              0           0             1              0  \n",
       "1048574              0           0             1              0  \n",
       "\n",
       "[1048575 rows x 14 columns]"
      ]
     },
     "execution_count": 18,
     "metadata": {},
     "output_type": "execute_result"
    }
   ],
   "source": [
    "## Performing One hot encoding on the column type\n",
    "encoded_df = pd.get_dummies(df, columns=['type'], prefix='type')\n",
    "encoded_df"
   ]
  },
  {
   "cell_type": "code",
   "execution_count": 19,
   "id": "d7b47cde",
   "metadata": {},
   "outputs": [
    {
     "data": {
      "text/html": [
       "<div>\n",
       "<style scoped>\n",
       "    .dataframe tbody tr th:only-of-type {\n",
       "        vertical-align: middle;\n",
       "    }\n",
       "\n",
       "    .dataframe tbody tr th {\n",
       "        vertical-align: top;\n",
       "    }\n",
       "\n",
       "    .dataframe thead th {\n",
       "        text-align: right;\n",
       "    }\n",
       "</style>\n",
       "<table border=\"1\" class=\"dataframe\">\n",
       "  <thead>\n",
       "    <tr style=\"text-align: right;\">\n",
       "      <th></th>\n",
       "      <th>step</th>\n",
       "      <th>amount</th>\n",
       "      <th>nameOrig</th>\n",
       "      <th>oldbalanceOrg</th>\n",
       "      <th>newbalanceOrig</th>\n",
       "      <th>nameDest</th>\n",
       "      <th>oldbalanceDest</th>\n",
       "      <th>newbalanceDest</th>\n",
       "      <th>isFraud</th>\n",
       "      <th>type_CASH_IN</th>\n",
       "      <th>type_CASH_OUT</th>\n",
       "      <th>type_DEBIT</th>\n",
       "      <th>type_PAYMENT</th>\n",
       "      <th>type_TRANSFER</th>\n",
       "    </tr>\n",
       "  </thead>\n",
       "  <tbody>\n",
       "    <tr>\n",
       "      <th>0</th>\n",
       "      <td>1</td>\n",
       "      <td>9839.64</td>\n",
       "      <td>C1231006815</td>\n",
       "      <td>170136.0</td>\n",
       "      <td>160296.36</td>\n",
       "      <td>M1979787155</td>\n",
       "      <td>0.0</td>\n",
       "      <td>0.0</td>\n",
       "      <td>0</td>\n",
       "      <td>0</td>\n",
       "      <td>0</td>\n",
       "      <td>0</td>\n",
       "      <td>1</td>\n",
       "      <td>0</td>\n",
       "    </tr>\n",
       "    <tr>\n",
       "      <th>1</th>\n",
       "      <td>1</td>\n",
       "      <td>1864.28</td>\n",
       "      <td>C1666544295</td>\n",
       "      <td>21249.0</td>\n",
       "      <td>19384.72</td>\n",
       "      <td>M2044282225</td>\n",
       "      <td>0.0</td>\n",
       "      <td>0.0</td>\n",
       "      <td>0</td>\n",
       "      <td>0</td>\n",
       "      <td>0</td>\n",
       "      <td>0</td>\n",
       "      <td>1</td>\n",
       "      <td>0</td>\n",
       "    </tr>\n",
       "    <tr>\n",
       "      <th>2</th>\n",
       "      <td>1</td>\n",
       "      <td>181.00</td>\n",
       "      <td>C1305486145</td>\n",
       "      <td>181.0</td>\n",
       "      <td>0.00</td>\n",
       "      <td>C553264065</td>\n",
       "      <td>0.0</td>\n",
       "      <td>0.0</td>\n",
       "      <td>1</td>\n",
       "      <td>0</td>\n",
       "      <td>0</td>\n",
       "      <td>0</td>\n",
       "      <td>0</td>\n",
       "      <td>1</td>\n",
       "    </tr>\n",
       "    <tr>\n",
       "      <th>3</th>\n",
       "      <td>1</td>\n",
       "      <td>181.00</td>\n",
       "      <td>C840083671</td>\n",
       "      <td>181.0</td>\n",
       "      <td>0.00</td>\n",
       "      <td>C38997010</td>\n",
       "      <td>21182.0</td>\n",
       "      <td>0.0</td>\n",
       "      <td>1</td>\n",
       "      <td>0</td>\n",
       "      <td>1</td>\n",
       "      <td>0</td>\n",
       "      <td>0</td>\n",
       "      <td>0</td>\n",
       "    </tr>\n",
       "    <tr>\n",
       "      <th>4</th>\n",
       "      <td>1</td>\n",
       "      <td>11668.14</td>\n",
       "      <td>C2048537720</td>\n",
       "      <td>41554.0</td>\n",
       "      <td>29885.86</td>\n",
       "      <td>M1230701703</td>\n",
       "      <td>0.0</td>\n",
       "      <td>0.0</td>\n",
       "      <td>0</td>\n",
       "      <td>0</td>\n",
       "      <td>0</td>\n",
       "      <td>0</td>\n",
       "      <td>1</td>\n",
       "      <td>0</td>\n",
       "    </tr>\n",
       "  </tbody>\n",
       "</table>\n",
       "</div>"
      ],
      "text/plain": [
       "   step    amount     nameOrig  oldbalanceOrg  newbalanceOrig     nameDest  \\\n",
       "0     1   9839.64  C1231006815       170136.0       160296.36  M1979787155   \n",
       "1     1   1864.28  C1666544295        21249.0        19384.72  M2044282225   \n",
       "2     1    181.00  C1305486145          181.0            0.00   C553264065   \n",
       "3     1    181.00   C840083671          181.0            0.00    C38997010   \n",
       "4     1  11668.14  C2048537720        41554.0        29885.86  M1230701703   \n",
       "\n",
       "   oldbalanceDest  newbalanceDest  isFraud  type_CASH_IN  type_CASH_OUT  \\\n",
       "0             0.0             0.0        0             0              0   \n",
       "1             0.0             0.0        0             0              0   \n",
       "2             0.0             0.0        1             0              0   \n",
       "3         21182.0             0.0        1             0              1   \n",
       "4             0.0             0.0        0             0              0   \n",
       "\n",
       "   type_DEBIT  type_PAYMENT  type_TRANSFER  \n",
       "0           0             1              0  \n",
       "1           0             1              0  \n",
       "2           0             0              1  \n",
       "3           0             0              0  \n",
       "4           0             1              0  "
      ]
     },
     "execution_count": 19,
     "metadata": {},
     "output_type": "execute_result"
    }
   ],
   "source": [
    "df= encoded_df\n",
    "df.head()"
   ]
  },
  {
   "cell_type": "code",
   "execution_count": 20,
   "id": "12c7527e",
   "metadata": {},
   "outputs": [
    {
     "data": {
      "text/plain": [
       "Index(['step', 'amount', 'nameOrig', 'oldbalanceOrg', 'newbalanceOrig',\n",
       "       'nameDest', 'oldbalanceDest', 'newbalanceDest', 'isFraud',\n",
       "       'type_CASH_IN', 'type_CASH_OUT', 'type_DEBIT', 'type_PAYMENT',\n",
       "       'type_TRANSFER'],\n",
       "      dtype='object')"
      ]
     },
     "execution_count": 20,
     "metadata": {},
     "output_type": "execute_result"
    }
   ],
   "source": [
    "df.columns"
   ]
  },
  {
   "cell_type": "code",
   "execution_count": 21,
   "id": "c67d3898",
   "metadata": {},
   "outputs": [
    {
     "data": {
      "text/plain": [
       "0    0\n",
       "1    0\n",
       "2    1\n",
       "3    1\n",
       "4    0\n",
       "Name: isFraud, dtype: int64"
      ]
     },
     "execution_count": 21,
     "metadata": {},
     "output_type": "execute_result"
    }
   ],
   "source": [
    "##Selecting the target\n",
    "y= df['isFraud']\n",
    "y.head()"
   ]
  },
  {
   "cell_type": "code",
   "execution_count": 22,
   "id": "106e3e08",
   "metadata": {},
   "outputs": [
    {
     "data": {
      "text/html": [
       "<div>\n",
       "<style scoped>\n",
       "    .dataframe tbody tr th:only-of-type {\n",
       "        vertical-align: middle;\n",
       "    }\n",
       "\n",
       "    .dataframe tbody tr th {\n",
       "        vertical-align: top;\n",
       "    }\n",
       "\n",
       "    .dataframe thead th {\n",
       "        text-align: right;\n",
       "    }\n",
       "</style>\n",
       "<table border=\"1\" class=\"dataframe\">\n",
       "  <thead>\n",
       "    <tr style=\"text-align: right;\">\n",
       "      <th></th>\n",
       "      <th>amount</th>\n",
       "      <th>oldbalanceOrg</th>\n",
       "      <th>newbalanceOrig</th>\n",
       "      <th>oldbalanceDest</th>\n",
       "      <th>newbalanceDest</th>\n",
       "      <th>type_CASH_IN</th>\n",
       "      <th>type_CASH_OUT</th>\n",
       "      <th>type_DEBIT</th>\n",
       "      <th>type_PAYMENT</th>\n",
       "      <th>type_TRANSFER</th>\n",
       "    </tr>\n",
       "  </thead>\n",
       "  <tbody>\n",
       "    <tr>\n",
       "      <th>0</th>\n",
       "      <td>9839.64</td>\n",
       "      <td>170136.0</td>\n",
       "      <td>160296.36</td>\n",
       "      <td>0.0</td>\n",
       "      <td>0.0</td>\n",
       "      <td>0</td>\n",
       "      <td>0</td>\n",
       "      <td>0</td>\n",
       "      <td>1</td>\n",
       "      <td>0</td>\n",
       "    </tr>\n",
       "    <tr>\n",
       "      <th>1</th>\n",
       "      <td>1864.28</td>\n",
       "      <td>21249.0</td>\n",
       "      <td>19384.72</td>\n",
       "      <td>0.0</td>\n",
       "      <td>0.0</td>\n",
       "      <td>0</td>\n",
       "      <td>0</td>\n",
       "      <td>0</td>\n",
       "      <td>1</td>\n",
       "      <td>0</td>\n",
       "    </tr>\n",
       "    <tr>\n",
       "      <th>2</th>\n",
       "      <td>181.00</td>\n",
       "      <td>181.0</td>\n",
       "      <td>0.00</td>\n",
       "      <td>0.0</td>\n",
       "      <td>0.0</td>\n",
       "      <td>0</td>\n",
       "      <td>0</td>\n",
       "      <td>0</td>\n",
       "      <td>0</td>\n",
       "      <td>1</td>\n",
       "    </tr>\n",
       "    <tr>\n",
       "      <th>3</th>\n",
       "      <td>181.00</td>\n",
       "      <td>181.0</td>\n",
       "      <td>0.00</td>\n",
       "      <td>21182.0</td>\n",
       "      <td>0.0</td>\n",
       "      <td>0</td>\n",
       "      <td>1</td>\n",
       "      <td>0</td>\n",
       "      <td>0</td>\n",
       "      <td>0</td>\n",
       "    </tr>\n",
       "    <tr>\n",
       "      <th>4</th>\n",
       "      <td>11668.14</td>\n",
       "      <td>41554.0</td>\n",
       "      <td>29885.86</td>\n",
       "      <td>0.0</td>\n",
       "      <td>0.0</td>\n",
       "      <td>0</td>\n",
       "      <td>0</td>\n",
       "      <td>0</td>\n",
       "      <td>1</td>\n",
       "      <td>0</td>\n",
       "    </tr>\n",
       "  </tbody>\n",
       "</table>\n",
       "</div>"
      ],
      "text/plain": [
       "     amount  oldbalanceOrg  newbalanceOrig  oldbalanceDest  newbalanceDest  \\\n",
       "0   9839.64       170136.0       160296.36             0.0             0.0   \n",
       "1   1864.28        21249.0        19384.72             0.0             0.0   \n",
       "2    181.00          181.0            0.00             0.0             0.0   \n",
       "3    181.00          181.0            0.00         21182.0             0.0   \n",
       "4  11668.14        41554.0        29885.86             0.0             0.0   \n",
       "\n",
       "   type_CASH_IN  type_CASH_OUT  type_DEBIT  type_PAYMENT  type_TRANSFER  \n",
       "0             0              0           0             1              0  \n",
       "1             0              0           0             1              0  \n",
       "2             0              0           0             0              1  \n",
       "3             0              1           0             0              0  \n",
       "4             0              0           0             1              0  "
      ]
     },
     "execution_count": 22,
     "metadata": {},
     "output_type": "execute_result"
    }
   ],
   "source": [
    "## selecting features that is relevant to our machine learning\n",
    "f_columns = ['amount', 'oldbalanceOrg', 'newbalanceOrig', 'oldbalanceDest', 'newbalanceDest', 'type_CASH_IN', 'type_CASH_OUT', 'type_DEBIT', 'type_PAYMENT', 'type_TRANSFER']\n",
    "X = df[f_columns]\n",
    "X.head()\n"
   ]
  },
  {
   "cell_type": "code",
   "execution_count": 23,
   "id": "a92d111d",
   "metadata": {},
   "outputs": [
    {
     "name": "stdout",
     "output_type": "stream",
     "text": [
      "x_train: (734002, 10)\n",
      "x_test: (314573, 10)\n",
      "y_train: (734002,)\n",
      "y_test: (314573,)\n"
     ]
    }
   ],
   "source": [
    "## splitting our dataset into test and train in a 3:7 ratio\n",
    "from sklearn.model_selection import train_test_split\n",
    "x_train, x_test, y_train, y_test= train_test_split(X, y, test_size= 0.3, random_state= 42 )\n",
    "print('x_train:', x_train.shape)\n",
    "print('x_test:', x_test.shape)\n",
    "print('y_train:', y_train.shape)\n",
    "print('y_test:', y_test.shape)"
   ]
  },
  {
   "cell_type": "markdown",
   "id": "e3d81678",
   "metadata": {},
   "source": [
    "## Algorithms"
   ]
  },
  {
   "cell_type": "markdown",
   "id": "79eb512e",
   "metadata": {},
   "source": [
    "### Decision Tree Classifier \n",
    "we are going to see how the decision tree classifier performs on our data"
   ]
  },
  {
   "cell_type": "code",
   "execution_count": 24,
   "id": "1e068dfd",
   "metadata": {},
   "outputs": [
    {
     "data": {
      "text/plain": [
       "DecisionTreeClassifier()"
      ]
     },
     "execution_count": 24,
     "metadata": {},
     "output_type": "execute_result"
    }
   ],
   "source": [
    "## Importing desicion tree\n",
    "from sklearn.tree import DecisionTreeClassifier\n",
    "Dc_model= DecisionTreeClassifier()\n",
    "Dc_model.fit(x_train, y_train)"
   ]
  },
  {
   "cell_type": "code",
   "execution_count": 25,
   "id": "3ca057ba",
   "metadata": {},
   "outputs": [
    {
     "name": "stdout",
     "output_type": "stream",
     "text": [
      "[0, 0, 0, 0, 0]\n",
      "[0 0 0 0 0]\n"
     ]
    }
   ],
   "source": [
    "## Lets see how the algorithm compairs to the first five instatnces from our dataset\n",
    "Dc_pred= Dc_model.predict(x_test)\n",
    "print(y_test.head().tolist())\n",
    "print(Dc_pred[:5])"
   ]
  },
  {
   "cell_type": "code",
   "execution_count": 26,
   "id": "2d401161",
   "metadata": {},
   "outputs": [
    {
     "name": "stdout",
     "output_type": "stream",
     "text": [
      "99.94723005470908\n"
     ]
    }
   ],
   "source": [
    "## Wed use accuracy score to test the performance of the algorithm\n",
    "from sklearn.metrics import accuracy_score\n",
    "print(accuracy_score(Dc_pred, y_test)*100)"
   ]
  },
  {
   "cell_type": "markdown",
   "id": "0631719c",
   "metadata": {},
   "source": [
    "### Random Forest"
   ]
  },
  {
   "cell_type": "code",
   "execution_count": 27,
   "id": "3054680b",
   "metadata": {},
   "outputs": [
    {
     "data": {
      "text/plain": [
       "RandomForestClassifier()"
      ]
     },
     "execution_count": 27,
     "metadata": {},
     "output_type": "execute_result"
    }
   ],
   "source": [
    "from sklearn.ensemble import RandomForestClassifier\n",
    "Rf_model= RandomForestClassifier()\n",
    "Rf_model.fit(x_train, y_train)"
   ]
  },
  {
   "cell_type": "code",
   "execution_count": 28,
   "id": "81d8112f",
   "metadata": {},
   "outputs": [
    {
     "name": "stdout",
     "output_type": "stream",
     "text": [
      "[0, 0, 0, 0, 0]\n",
      "[0 0 0 0 0]\n"
     ]
    }
   ],
   "source": [
    "## Lets see how the algorithm compairs to the first five instatnces from our dataset\n",
    "Rf_pred= Rf_model.predict(x_test)\n",
    "print(y_test.head().tolist())\n",
    "print(Rf_pred[:5])"
   ]
  },
  {
   "cell_type": "code",
   "execution_count": 29,
   "id": "c192d8fb",
   "metadata": {},
   "outputs": [
    {
     "name": "stdout",
     "output_type": "stream",
     "text": [
      "99.96248883407031\n"
     ]
    }
   ],
   "source": [
    "## Wed use accuracy score to test the performance of the algorithm\n",
    "print(accuracy_score(Rf_pred, y_test)*100)"
   ]
  },
  {
   "cell_type": "markdown",
   "id": "b4610c3a",
   "metadata": {},
   "source": [
    "## K-Neigbour Classifier"
   ]
  },
  {
   "cell_type": "code",
   "execution_count": 30,
   "id": "9c0e4c00",
   "metadata": {},
   "outputs": [
    {
     "data": {
      "text/plain": [
       "KNeighborsClassifier()"
      ]
     },
     "execution_count": 30,
     "metadata": {},
     "output_type": "execute_result"
    }
   ],
   "source": [
    "from sklearn.neighbors import KNeighborsClassifier\n",
    "K_model= KNeighborsClassifier()\n",
    "K_model.fit(x_train, y_train)"
   ]
  },
  {
   "cell_type": "code",
   "execution_count": 31,
   "id": "a9fddc23",
   "metadata": {},
   "outputs": [
    {
     "name": "stderr",
     "output_type": "stream",
     "text": [
      "C:\\Users\\Mhizfair\\anaconda3\\lib\\site-packages\\sklearn\\neighbors\\_classification.py:228: FutureWarning: Unlike other reduction functions (e.g. `skew`, `kurtosis`), the default behavior of `mode` typically preserves the axis it acts along. In SciPy 1.11.0, this behavior will change: the default value of `keepdims` will become False, the `axis` over which the statistic is taken will be eliminated, and the value None will no longer be accepted. Set `keepdims` to True or False to avoid this warning.\n",
      "  mode, _ = stats.mode(_y[neigh_ind, k], axis=1)\n"
     ]
    },
    {
     "name": "stdout",
     "output_type": "stream",
     "text": [
      "99.93515018771477\n"
     ]
    }
   ],
   "source": [
    "K_preds= K_model.predict(x_test)\n",
    "print(accuracy_score(K_preds, y_test)*100)"
   ]
  },
  {
   "cell_type": "markdown",
   "id": "28e23f2b",
   "metadata": {},
   "source": [
    "## Evaluating our Models"
   ]
  },
  {
   "cell_type": "code",
   "execution_count": 34,
   "id": "f6e08b0b",
   "metadata": {},
   "outputs": [
    {
     "data": {
      "image/png": "[encoded data removed]",
      "text/plain": [
       "<Figure size 1000x600 with 1 Axes>"
      ]
     },
     "metadata": {},
     "output_type": "display_data"
    }
   ],
   "source": [
    "## feature Importance for DC Model\n",
    "\n",
    "import matplotlib.pyplot as plt\n",
    "\n",
    "# Get feature importances\n",
    "importances = Dc_model.feature_importances_\n",
    "\n",
    "# Sort feature importances in descending order\n",
    "indices = np.argsort(importances)[::-1]\n",
    "\n",
    "# Get the names of the features\n",
    "feature_names = x_train.columns\n",
    "\n",
    "# Plot feature importances\n",
    "plt.figure(figsize=(10, 6))\n",
    "plt.bar(range(x_train.shape[1]), importances[indices])\n",
    "plt.xticks(range(x_train.shape[1]), feature_names[indices], rotation='vertical')\n",
    "plt.xlabel('Features')\n",
    "plt.ylabel('Importance')\n",
    "plt.title('Feature Importances')\n",
    "plt.show()"
   ]
  },
  {
   "cell_type": "code",
   "execution_count": 35,
   "id": "6251629c",
   "metadata": {},
   "outputs": [
    {
     "data": {
      "image/png": "[encoded data removed]",
      "text/plain": [
       "<Figure size 1000x600 with 1 Axes>"
      ]
     },
     "metadata": {},
     "output_type": "display_data"
    }
   ],
   "source": [
    "## feature Importance for RF Model\n",
    "\n",
    "import matplotlib.pyplot as plt\n",
    "\n",
    "# Get feature importances\n",
    "importances = Rf_model.feature_importances_\n",
    "\n",
    "# Sort feature importances in descending order\n",
    "indices = np.argsort(importances)[::-1]\n",
    "\n",
    "# Get the names of the features\n",
    "feature_names = x_train.columns\n",
    "\n",
    "# Plot feature importances\n",
    "plt.figure(figsize=(10, 6))\n",
    "plt.bar(range(x_train.shape[1]), importances[indices])\n",
    "plt.xticks(range(x_train.shape[1]), feature_names[indices], rotation='vertical')\n",
    "plt.xlabel('Features')\n",
    "plt.ylabel('Importance')\n",
    "plt.title('Feature Importances')\n",
    "plt.show()"
   ]
  },
  {
   "cell_type": "markdown",
   "id": "b204001a",
   "metadata": {},
   "source": [
    "### Observation: \n",
    "after looking at the feature importance from two of our algorithms it was discovered that the relied heavily on the amount of transaction to carry out the model, while amount was not the most important feature for either it came second for both type debit and type CashIn was the least relied upon feature"
   ]
  },
  {
   "cell_type": "code",
   "execution_count": 38,
   "id": "e30e7475",
   "metadata": {},
   "outputs": [],
   "source": [
    "from sklearn.metrics import accuracy_score, precision_score, recall_score, f1_score, roc_auc_score\n"
   ]
  },
  {
   "cell_type": "code",
   "execution_count": 43,
   "id": "a103e9c8",
   "metadata": {},
   "outputs": [],
   "source": [
    "# Decision Tree\n",
    "dc_accuracy = accuracy_score(y_test, Dc_pred)\n",
    "dc_precision = precision_score(y_test, Dc_pred)\n",
    "dc_recall = recall_score(y_test, Dc_pred)\n",
    "dc_f1 = f1_score(y_test, Dc_pred)\n",
    "dc_roc_auc = roc_auc_score(y_test, Dc_pred)\n",
    "\n",
    "# Random Forest\n",
    "Rf_accuracy = accuracy_score(y_test, Rf_pred)\n",
    "Rf_precision = precision_score(y_test, Rf_pred)\n",
    "Rf_recall = recall_score(y_test, Rf_pred)\n",
    "Rf_f1 = f1_score(y_test, Rf_pred)\n",
    "Rf_roc_auc = roc_auc_score(y_test, Rf_pred)\n",
    "\n",
    "# K-Nearest Neighbors\n",
    "k_accuracy = accuracy_score(y_test, K_preds)\n",
    "k_precision = precision_score(y_test, K_preds)\n",
    "k_recall = recall_score(y_test, K_preds)\n",
    "k_f1 = f1_score(y_test, K_preds)\n",
    "k_roc_auc = roc_auc_score(y_test, K_preds)\n"
   ]
  },
  {
   "cell_type": "code",
   "execution_count": 44,
   "id": "70637928",
   "metadata": {},
   "outputs": [
    {
     "name": "stdout",
     "output_type": "stream",
     "text": [
      "Decision Tree:\n",
      "Accuracy: 0.9994723005470908\n",
      "Precision: 0.7621776504297995\n",
      "Recall: 0.7621776504297995\n",
      "F1-Score: 0.7621776504297995\n",
      "ROC-AUC: 0.8809567538263362\n",
      "\n",
      "Random Forest:\n",
      "Accuracy: 0.9996248883407031\n",
      "Precision: 0.9565217391304348\n",
      "Recall: 0.6934097421203438\n",
      "F1-Score: 0.8039867109634551\n",
      "ROC-AUC: 0.8466873676231333\n",
      "\n",
      "K-Nearest Neighbors:\n",
      "Accuracy: 0.9993515018771477\n",
      "Precision: 0.8138528138528138\n",
      "Recall: 0.5386819484240688\n",
      "F1-Score: 0.6482758620689655\n",
      "ROC-AUC: 0.7692725516854292\n"
     ]
    }
   ],
   "source": [
    "print(\"Decision Tree:\")\n",
    "print(\"Accuracy:\", dc_accuracy)\n",
    "print(\"Precision:\", dc_precision)\n",
    "print(\"Recall:\", dc_recall)\n",
    "print(\"F1-Score:\", dc_f1)\n",
    "print(\"ROC-AUC:\", dc_roc_auc)\n",
    "print()\n",
    "\n",
    "print(\"Random Forest:\")\n",
    "print(\"Accuracy:\", Rf_accuracy)\n",
    "print(\"Precision:\", Rf_precision)\n",
    "print(\"Recall:\", Rf_recall)\n",
    "print(\"F1-Score:\", Rf_f1)\n",
    "print(\"ROC-AUC:\", Rf_roc_auc)\n",
    "print()\n",
    "\n",
    "print(\"K-Nearest Neighbors:\")\n",
    "print(\"Accuracy:\", k_accuracy)\n",
    "print(\"Precision:\", k_precision)\n",
    "print(\"Recall:\", k_recall)\n",
    "print(\"F1-Score:\", k_f1)\n",
    "print(\"ROC-AUC:\", k_roc_auc)\n"
   ]
  },
  {
   "cell_type": "code",
   "execution_count": 46,
   "id": "cfbe767b",
   "metadata": {},
   "outputs": [
    {
     "data": {
      "image/png": "[encoded data removed]",
      "text/plain": [
       "<Figure size 1000x600 with 1 Axes>"
      ]
     },
     "metadata": {},
     "output_type": "display_data"
    }
   ],
   "source": [
    "# Define the performance metrics for each algorithm\n",
    "accuracy = [dc_accuracy, Rf_accuracy, k_accuracy]\n",
    "precision = [dc_precision, Rf_precision, k_precision]\n",
    "recall = [dc_recall, Rf_recall, k_recall]\n",
    "f1_score = [dc_f1, Rf_f1, k_f1]\n",
    "roc_auc = [dc_roc_auc, Rf_roc_auc, k_roc_auc]\n",
    "\n",
    "# Define the algorithm names\n",
    "algorithms = ['Decision Tree', 'Random Forest', 'K-Nearest Neighbors']\n",
    "\n",
    "# Set the width of the bars\n",
    "bar_width = 0.2\n",
    "\n",
    "# Set the positions of the bars on the x-axis\n",
    "r1 = np.arange(len(algorithms))\n",
    "r2 = [x + bar_width for x in r1]\n",
    "r3 = [x + bar_width for x in r2]\n",
    "r4 = [x + bar_width for x in r3]\n",
    "\n",
    "# Plot the performance metrics\n",
    "plt.figure(figsize=(10, 6))\n",
    "plt.bar(r1, accuracy, color='blue', width=bar_width, edgecolor='black', label='Accuracy')\n",
    "plt.bar(r2, precision, color='orange', width=bar_width, edgecolor='black', label='Precision')\n",
    "plt.bar(r3, recall, color='green', width=bar_width, edgecolor='black', label='Recall')\n",
    "plt.bar(r4, f1_score, color='red', width=bar_width, edgecolor='black', label='F1-Score')\n",
    "\n",
    "# Add x-axis labels, y-axis label, and chart title\n",
    "plt.xlabel('Algorithms')\n",
    "plt.ylabel('Performance')\n",
    "plt.title('Performance Comparison of Algorithms')\n",
    "plt.xticks([r + bar_width for r in range(len(algorithms))], algorithms)\n",
    "\n",
    "# Add a legend\n",
    "plt.legend()\n",
    "\n",
    "# Show the plot\n",
    "plt.show()\n"
   ]
  },
  {
   "cell_type": "markdown",
   "id": "6f507b1f",
   "metadata": {},
   "source": [
    "### Observation:\n",
    "The Random Forest algorithm outperformed the others in terms of accuracy, precision, recall, F1-score, and ROC-AUC"
   ]
  },
  {
   "cell_type": "markdown",
   "id": "01966640",
   "metadata": {},
   "source": [
    "## Conclusion\n",
    "The importance of false negatives and true positives depends on the specific context and objectives of the business in the context of fraud detection. Let's consider the implications of false negatives and true positives:\n",
    "\n",
    "False Negatives:\n",
    "\n",
    "False negatives occur when a fraudulent transaction is incorrectly classified as non-fraudulent. This means that the fraud goes undetected and no action is taken.\n",
    "The potential impact of false negatives is that fraudulent activities may go unnoticed, leading to financial losses for the business and potential harm to customers.\n",
    "If the business wants to prioritize minimizing financial losses due to fraud and maintaining customer trust, it should be more concerned about false negatives. Detecting and preventing fraudulent transactions is crucial in this case.\n",
    "True Positives:\n",
    "\n",
    "True positives occur when a fraudulent transaction is correctly classified as fraudulent. This means that the fraud is detected and appropriate actions can be taken, such as blocking the transaction or investigating further.\n",
    "The impact of true positives is that fraud can be addressed promptly, potentially minimizing financial losses and protecting the business and customers.\n",
    "If the business wants to prioritize swift action and minimizing the impact of fraudulent activities, it should be more concerned about true positives.\n",
    "In fraud detection, striking a balance between false negatives and true positives is important. A business may want to minimize both false negatives and false positives (non-fraudulent transactions incorrectly classified as fraudulent) to achieve the best overall performance. The specific emphasis on false negatives or true positives depends on the business's risk tolerance, resources available for investigation, and the potential consequences of fraud in their specific industry or domain."
   ]
  }
 ],
 "metadata": {
  "kernelspec": {
   "display_name": "Python 3 (ipykernel)",
   "language": "python",
   "name": "python3"
  },
  "language_info": {
   "codemirror_mode": {
    "name": "ipython",
    "version": 3
   },
   "file_extension": ".py",
   "mimetype": "text/x-python",
   "name": "python",
   "nbconvert_exporter": "python",
   "pygments_lexer": "ipython3",
   "version": "3.9.13"
  }
 },
 "nbformat": 4,
 "nbformat_minor": 5
}
